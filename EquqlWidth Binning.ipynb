{
 "cells": [
  {
   "cell_type": "code",
   "execution_count": 22,
   "id": "4ba37674",
   "metadata": {},
   "outputs": [],
   "source": [
    "import math "
   ]
  },
  {
   "cell_type": "code",
   "execution_count": 23,
   "id": "b11d766d",
   "metadata": {},
   "outputs": [
    {
     "name": "stdout",
     "output_type": "stream",
     "text": [
      "\n",
      "\n",
      "equal width binning\n",
      "[[5, 10, 11, 13, 15, 35, 50, 55, 72], [92], [204, 215]]\n"
     ]
    }
   ],
   "source": [
    "def equalwidth(data, noofbins):\n",
    "    \n",
    "    interval = int((max(data) - min(data)) / noofbins)\n",
    "    minium = min(data)\n",
    "    range1 = []\n",
    "    for i in range(0, noofbins + 1):\n",
    "        range1 = range1 + [minium + interval * i]\n",
    "    output=[]\n",
    "      \n",
    "    for i in range(0, noofbins):\n",
    "        temp = []\n",
    "        for j in data:\n",
    "            if j >= range1[i] and j <= range1[i+1]:\n",
    "                temp += [j]\n",
    "        output += [temp]\n",
    "    print(output) \n",
    "# data to be binned\n",
    "data = [5, 10, 11, 13, 15, 35, 50, 55, 72, 92, 204, 215]\n",
    "  \n",
    "# no of bins  \n",
    "noofbins = 3 \n",
    "print(\"\\n\\nequal width binning\")\n",
    "equalwidth(data, 3)\n"
   ]
  },
  {
   "cell_type": "code",
   "execution_count": null,
   "id": "7dc9176c",
   "metadata": {},
   "outputs": [],
   "source": []
  },
  {
   "cell_type": "code",
   "execution_count": null,
   "id": "b92b740e",
   "metadata": {},
   "outputs": [],
   "source": []
  }
 ],
 "metadata": {
  "kernelspec": {
   "display_name": "Python 3 (ipykernel)",
   "language": "python",
   "name": "python3"
  },
  "language_info": {
   "codemirror_mode": {
    "name": "ipython",
    "version": 3
   },
   "file_extension": ".py",
   "mimetype": "text/x-python",
   "name": "python",
   "nbconvert_exporter": "python",
   "pygments_lexer": "ipython3",
   "version": "3.9.12"
  }
 },
 "nbformat": 4,
 "nbformat_minor": 5
}
