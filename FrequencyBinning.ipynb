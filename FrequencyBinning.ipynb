{
 "cells": [
  {
   "cell_type": "code",
   "execution_count": 16,
   "id": "4d024066",
   "metadata": {},
   "outputs": [],
   "source": [
    "import math"
   ]
  },
  {
   "cell_type": "code",
   "execution_count": 7,
   "id": "9d254d62",
   "metadata": {},
   "outputs": [
    {
     "name": "stdout",
     "output_type": "stream",
     "text": [
      "equal frequency binning\n",
      "[5, 10, 11, 13]\n",
      "[15, 35, 50, 55]\n",
      "[72, 92, 204, 215]\n"
     ]
    }
   ],
   "source": [
    "def equifreq(data, noofbins):    \n",
    "    lenth=len(data)\n",
    "    interval = int(lenth / noofbins)\n",
    "    for i in range(0, noofbins):\n",
    "        output = []\n",
    "        for j in range(i * interval, (i + 1) * interval):\n",
    "            if j >= lenth:\n",
    "                break\n",
    "            output = output + [data[j]]\n",
    "        print(output)\n",
    "# data to be binned\n",
    "data = [5, 10, 11, 13, 15, 35, 50, 55, 72, 92, 204, 215]\n",
    "  \n",
    "# no of bins\n",
    "noofbins = 3 \n",
    "  \n",
    "print(\"equal frequency binning\")\n",
    "equifreq(data, noofbins)"
   ]
  },
  {
   "cell_type": "code",
   "execution_count": null,
   "id": "9f2046e6",
   "metadata": {},
   "outputs": [],
   "source": []
  }
 ],
 "metadata": {
  "kernelspec": {
   "display_name": "Python 3 (ipykernel)",
   "language": "python",
   "name": "python3"
  },
  "language_info": {
   "codemirror_mode": {
    "name": "ipython",
    "version": 3
   },
   "file_extension": ".py",
   "mimetype": "text/x-python",
   "name": "python",
   "nbconvert_exporter": "python",
   "pygments_lexer": "ipython3",
   "version": "3.9.12"
  }
 },
 "nbformat": 4,
 "nbformat_minor": 5
}
