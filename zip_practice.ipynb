{
 "cells": [
  {
   "cell_type": "code",
   "execution_count": 7,
   "id": "666b805c",
   "metadata": {},
   "outputs": [
    {
     "data": {
      "text/plain": [
       "<zip at 0x7fe4792669c0>"
      ]
     },
     "execution_count": 7,
     "metadata": {},
     "output_type": "execute_result"
    }
   ],
   "source": [
    "dish=('Idly','Doda','friedrice')\n",
    "side=('chutny','podi','gobi65')\n",
    "menu=zip(dish,side)\n",
    "menu"
   ]
  },
  {
   "cell_type": "code",
   "execution_count": 8,
   "id": "931acb8d",
   "metadata": {},
   "outputs": [
    {
     "data": {
      "text/plain": [
       "(('Idly', 'chutny'), ('Doda', 'podi'), ('friedrice', 'bobi65'))"
      ]
     },
     "execution_count": 8,
     "metadata": {},
     "output_type": "execute_result"
    }
   ],
   "source": [
    "tuple(menu)"
   ]
  },
  {
   "cell_type": "code",
   "execution_count": 10,
   "id": "3d595afe",
   "metadata": {},
   "outputs": [
    {
     "name": "stdout",
     "output_type": "stream",
     "text": [
      "Idly good combination with chutny\n",
      "Doda good combination with podi\n",
      "friedrice good combination with bobi65\n"
     ]
    }
   ],
   "source": [
    "for di,si in zip(dish,side):\n",
    "    print(f'{di} good combination with {si}')"
   ]
  },
  {
   "cell_type": "code",
   "execution_count": null,
   "id": "491a74b0",
   "metadata": {},
   "outputs": [],
   "source": []
  }
 ],
 "metadata": {
  "kernelspec": {
   "display_name": "Python 3 (ipykernel)",
   "language": "python",
   "name": "python3"
  },
  "language_info": {
   "codemirror_mode": {
    "name": "ipython",
    "version": 3
   },
   "file_extension": ".py",
   "mimetype": "text/x-python",
   "name": "python",
   "nbconvert_exporter": "python",
   "pygments_lexer": "ipython3",
   "version": "3.9.12"
  }
 },
 "nbformat": 4,
 "nbformat_minor": 5
}
